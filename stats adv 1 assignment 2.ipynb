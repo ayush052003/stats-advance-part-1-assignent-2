{
 "cells": [
  {
   "cell_type": "code",
   "execution_count": 1,
   "id": "50df5e25-61e5-4594-a245-202dd81e6c3c",
   "metadata": {},
   "outputs": [
    {
     "data": {
      "text/plain": [
       "'Q1: What are the Probability Mass Function (PMF) and Probability Density Function (PDF)? Explain with \\nan example.'"
      ]
     },
     "execution_count": 1,
     "metadata": {},
     "output_type": "execute_result"
    }
   ],
   "source": [
    "'''Q1: What are the Probability Mass Function (PMF) and Probability Density Function (PDF)? Explain with \n",
    "an example.'''"
   ]
  },
  {
   "cell_type": "code",
   "execution_count": 2,
   "id": "3fc2a0a9-94c2-4f25-903e-95cb54433842",
   "metadata": {},
   "outputs": [
    {
     "data": {
      "text/plain": [
       "'The Probability Mass Function (PMF) and Probability Density Function (PDF) are two fundamental concepts in probability theory and statistics, each describing the distribution of different types of random variables123456.\\n\\nProbability Mass Function (PMF): The PMF is a function that gives the probability that a discrete random variable is exactly equal to some value1237.\\nIt is also called a probability function or frequency function13. For example, consider the random variable X that represents the number of heads obtained\\nwhen flipping a fair coin twice. X can take on the values 0, 1, 2. The probability that X will be equal to 1 is 0.52. Thus, it can be said that the probability \\nmass function of X evaluated at 1 will be 0.52.\\n\\nProbability Density Function (PDF): The PDF is used to define the probability of a continuous random variable coming within a distinct range of values,\\nas opposed to taking on any one value456. For example, let X be a continuous random variable and the probability density function pdf is given by f(x)\\n= x – 1 , 0 < x ≤ 5. To find the probability P (1 < x ≤ 2), we integrate the pdf f(x) = x – 1 with the limits 1 and 2.\\n\\nThis results in the probability P (1 < x ≤ 2) = 0.54.\\nIn summary, the PMF is used for discrete random variables, where the outcomes are countable, while the PDF is used for continuous random variables, where \\nthe outcomes are uncountable or infinite.'"
      ]
     },
     "execution_count": 2,
     "metadata": {},
     "output_type": "execute_result"
    }
   ],
   "source": [
    "'''The Probability Mass Function (PMF) and Probability Density Function (PDF) are two fundamental concepts in probability theory and statistics, each describing the distribution of different types of random variables.\n",
    "\n",
    "Probability Mass Function (PMF): The PMF is a function that gives the probability that a discrete random variable is exactly equal to some value.\n",
    "It is also called a probability function or frequency function. For example, consider the random variable X that represents the number of heads obtained\n",
    "when flipping a fair coin twice. X can take on the values 0, 1, 2. The probability that X will be equal to 1 is 0.52. Thus, it can be said that the probability \n",
    "mass function of X evaluated at 1 will be 0.52.\n",
    "\n",
    "Probability Density Function (PDF): The PDF is used to define the probability of a continuous random variable coming within a distinct range of values,\n",
    "as opposed to taking on any one value. For example, let X be a continuous random variable and the probability density function pdf is given by f(x)\n",
    "= x – 1 , 0 < x ≤ 5. To find the probability P (1 < x ≤ 2), we integrate the pdf f(x) = x – 1 with the limits 1 and 2.\n",
    "\n",
    "This results in the probability P (1 < x ≤ 2) = 0.54.\n",
    "In summary, the PMF is used for discrete random variables, where the outcomes are countable, while the PDF is used for continuous random variables, where \n",
    "the outcomes are uncountable or infinite.'''"
   ]
  },
  {
   "cell_type": "code",
   "execution_count": 3,
   "id": "67b8f754-d980-44c7-8336-ff0c4e04413a",
   "metadata": {},
   "outputs": [
    {
     "data": {
      "text/plain": [
       "'Q2: What is Cumulative Density Function (CDF)? Explain with an example. Why CDF is used?'"
      ]
     },
     "execution_count": 3,
     "metadata": {},
     "output_type": "execute_result"
    }
   ],
   "source": [
    "'''Q2: What is Cumulative Density Function (CDF)? Explain with an example. Why CDF is used?'''"
   ]
  },
  {
   "cell_type": "code",
   "execution_count": 4,
   "id": "1cd499bf-a726-400f-8919-d0f80f7b73ce",
   "metadata": {},
   "outputs": [
    {
     "data": {
      "text/plain": [
       "'If we wish to calculate the probability that a person waits less than 30 seconds (or 0.5 minutes) for the elevator to arrive, then we calculate the \\nfollowing probability using the CDF.\\n\\nThe CDF is used for several reasons:\\n\\nIt provides probabilities that the next observation will be less than or equal to the value you specify, which can help make decisions that incorporate\\nuncertainty.\\n\\nThese cumulative probabilities are equivalent to percentiles. So, CDFs are great for finding percentiles.\\nIt is used to calculate the probability of a random variable and also to compare the probability between values under certain conditions.\\nFor continuous distribution functions, CDF gives the area under the probability density function up to the given value specified.\\nEvery random variable has a CDF, making it applicable to all random variables.'"
      ]
     },
     "execution_count": 4,
     "metadata": {},
     "output_type": "execute_result"
    }
   ],
   "source": [
    "# The Cumulative Distribution Function (CDF) of a real-valued random variable X, evaluated at x, is the probability function that X will take a value less\n",
    "# than or equal to x. It is used to describe the probability distribution of random variables. The CDF is defined for both discrete and continuous \n",
    "# random variables.\n",
    "\n",
    "# For example, consider a continuous random variable X that represents the time a person waits for an elevator to arrive. Suppose the longest one would \n",
    "# need to wait for the elevator is 2 minutes, so that the possible values of X (in minutes) are given by the interval [0, 2].\n",
    "'''If we wish to calculate the probability that a person waits less than 30 seconds (or 0.5 minutes) for the elevator to arrive, then we calculate the \n",
    "following probability using the CDF.\n",
    "\n",
    "The CDF is used for several reasons:\n",
    "\n",
    "It provides probabilities that the next observation will be less than or equal to the value you specify, which can help make decisions that incorporate\n",
    "uncertainty.\n",
    "\n",
    "These cumulative probabilities are equivalent to percentiles. So, CDFs are great for finding percentiles.\n",
    "It is used to calculate the probability of a random variable and also to compare the probability between values under certain conditions.\n",
    "For continuous distribution functions, CDF gives the area under the probability density function up to the given value specified.\n",
    "Every random variable has a CDF, making it applicable to all random variables.'''"
   ]
  },
  {
   "cell_type": "code",
   "execution_count": 5,
   "id": "10b6958c-d372-4388-84a5-3f32220fcc8c",
   "metadata": {},
   "outputs": [
    {
     "data": {
      "text/plain": [
       "'Q3: What are some examples of situations where the normal distribution might be used as a model? \\nExplain how the parameters of the normal distribution relate to the shape of the distribution.'"
      ]
     },
     "execution_count": 5,
     "metadata": {},
     "output_type": "execute_result"
    }
   ],
   "source": [
    "'''Q3: What are some examples of situations where the normal distribution might be used as a model? \n",
    "Explain how the parameters of the normal distribution relate to the shape of the distribution.'''"
   ]
  },
  {
   "cell_type": "code",
   "execution_count": 6,
   "id": "0cd516b1-e7ba-4f15-b094-33d759d73160",
   "metadata": {},
   "outputs": [
    {
     "data": {
      "text/plain": [
       "'The shape of the normal distribution is determined by its two parameters: the mean and the standard deviation:\\n\\n# a.Mean: The mean determines the location of the center of the graph. Increasing the mean shifts the curve to the right, while decreasing it shifts the curve\\nto the left.\\n\\n# b.Standard Deviation: The standard deviation determines the spread of the curve. A small standard deviation results in a narrow curve, while a large standard\\ndeviation leads to a wide curve.\\n\\nIn a normal distribution, about 68% of values fall within 1 standard deviation from the mean, about 95% of values fall within 2 standard deviations from\\nthe mean, and about 99.7% of values fall within 3 standard deviations from the mean.'"
      ]
     },
     "execution_count": 6,
     "metadata": {},
     "output_type": "execute_result"
    }
   ],
   "source": [
    "'''The normal distribution is widely used in natural and social sciences as it approximates many natural phenomena very well. Here are some examples where the\n",
    "normal distribution might be used as a model:'''\n",
    "\n",
    "# 1.Height: The height of people in a specific population is an example of a normal distribution. Most people are of average height, and the number of people\n",
    "#taller and shorter than the average is almost equal.\n",
    "\n",
    "# 2.Rolling A Dice: A fair rolling of dice is also a good example of a normal distribution. When a dice is rolled a large number of times, the distribution\n",
    "#of outcomes tends to be normal.\n",
    "\n",
    "# 3.Tossing A Coin: The distribution of outcomes over a large number of coin tosses is approximately normal.\n",
    "\n",
    "# 4.IQ Scores: The IQ scores of a population are normally distributed, with most people having an IQ around the average and fewer people with very high or\n",
    "#very low IQs.\n",
    "\n",
    "'''The shape of the normal distribution is determined by its two parameters: the mean and the standard deviation:\n",
    "\n",
    "# a.Mean: The mean determines the location of the center of the graph. Increasing the mean shifts the curve to the right, while decreasing it shifts the curve\n",
    "to the left.\n",
    "\n",
    "# b.Standard Deviation: The standard deviation determines the spread of the curve. A small standard deviation results in a narrow curve, while a large standard\n",
    "deviation leads to a wide curve.\n",
    "\n",
    "In a normal distribution, about 68% of values fall within 1 standard deviation from the mean, about 95% of values fall within 2 standard deviations from\n",
    "the mean, and about 99.7% of values fall within 3 standard deviations from the mean.'''"
   ]
  },
  {
   "cell_type": "code",
   "execution_count": 7,
   "id": "6cbc85b8-d4ee-494f-bc94-279bbaad446b",
   "metadata": {},
   "outputs": [
    {
     "data": {
      "text/plain": [
       "'Q4: Explain the importance of Normal Distribution. Give a few real-life examples of Normal \\nDistribution. '"
      ]
     },
     "execution_count": 7,
     "metadata": {},
     "output_type": "execute_result"
    }
   ],
   "source": [
    "'''Q4: Explain the importance of Normal Distribution. Give a few real-life examples of Normal \n",
    "Distribution. '''"
   ]
  },
  {
   "cell_type": "code",
   "execution_count": 8,
   "id": "f7668a9d-b41e-4e40-b353-f987289e71fe",
   "metadata": {},
   "outputs": [
    {
     "data": {
      "text/plain": [
       "'Natural and Social Sciences: Many naturally occurring measurements in fields such as biology, psychology, and sociology are approximately normally distributed1234.\\nReal-life examples of Normal Distribution include:'"
      ]
     },
     "execution_count": 8,
     "metadata": {},
     "output_type": "execute_result"
    }
   ],
   "source": [
    "'''The Normal Distribution is one of the most important probability distributions in statistics due to its numerous properties and wide applicability:'''\n",
    "\n",
    "# 1.Central Limit Theorem: The Central Limit Theorem states that the sum of a large number of independent and identically distributed random variables \n",
    "# tends towards a normal distribution, regardless of the shape of the original distribution.\n",
    "\n",
    "# 2.Symmetry: The normal distribution is symmetric about the mean, with half the values falling below the mean and half above it.\n",
    "\n",
    "# 3.Empirical Rule: Approximately 68% of values are within 1 standard deviation from the mean, 95% are within 2 standard deviations, and 99.7% are within\n",
    "# 3 standard deviations.\n",
    "\n",
    "# 4.Ease of Computation: Many statistical tests and procedures are based on the assumption of normality due to the mathematical convenience it offers.\n",
    "\n",
    "'''Natural and Social Sciences: Many naturally occurring measurements in fields such as biology, psychology, and sociology are approximately normally distributed1234.\n",
    "Real-life examples of Normal Distribution include:'''\n",
    "\n",
    "# a.Height: The height of people in a specific population is normally distributed. Most people are of average height, and the number of people taller \n",
    "# and shorter than the average is almost equal.\n",
    "\n",
    "# b.Rolling A Dice: When a dice is rolled a large number of times, the distribution of outcomes tends to be normal.\n",
    "\n",
    "# c.Tossing A Coin: The distribution of outcomes over a large number of coin tosses is approximately normal.\n",
    "\n",
    "# d.IQ Scores: The IQ scores of a population are normally distributed, with most people having an IQ around the average and fewer people with very high\n",
    "# or very low IQs.\n",
    "\n",
    "# e.Birthweight of Babies: It’s well-documented that the birthweight of newborn babies is normally distributed with a mean of about 7.5 pounds.\n",
    "\n",
    "# f.Shoe Sizes: The distribution of shoe sizes for males in the U.S. is roughly normally distributed with a mean of size 10 and a standard deviation of.\n",
    "\n",
    "# g.ACT Scores: The distribution of ACT scores for high school students in the U.S. is normally distributed with a mean of 21 and a standard deviation of about 55.\n",
    "\n",
    "# h.Average NFL Player Retirement Age: The distribution of retirement age for NFL players is normally distributed with a mean of 33 years old and a \n",
    "# standard deviation of about 2 years.\n",
    "\n",
    "# i.Blood Pressure: The distribution of diastolic blood pressure for men is normally distributed with a mean of about 80 and a standard deviation of 20"
   ]
  },
  {
   "cell_type": "code",
   "execution_count": 9,
   "id": "f8fe85bc-2ec9-46e1-9cf0-c7edd36245e1",
   "metadata": {},
   "outputs": [
    {
     "data": {
      "text/plain": [
       "'Q5: What is Bernaulli Distribution? Give an Example. What is the difference between Bernoulli \\nDistribution and Binomial Distribution?'"
      ]
     },
     "execution_count": 9,
     "metadata": {},
     "output_type": "execute_result"
    }
   ],
   "source": [
    "'''Q5: What is Bernaulli Distribution? Give an Example. What is the difference between Bernoulli \n",
    "Distribution and Binomial Distribution?'''"
   ]
  },
  {
   "cell_type": "code",
   "execution_count": 10,
   "id": "341909d5-b673-48cb-a735-99e5e2a7893e",
   "metadata": {},
   "outputs": [
    {
     "data": {
      "text/plain": [
       "'In summary, while both Bernoulli and Bnomial distributions deal with binary outcomes, the Bernoulli distribution is used for a single trial, while the \\nBinomial distribution is used for multiple trials.'"
      ]
     },
     "execution_count": 10,
     "metadata": {},
     "output_type": "execute_result"
    }
   ],
   "source": [
    "'''The Bernoulli Distribution is a type of discrete probability distribution where every experiment conducted asks a question that can be answered only \n",
    "in yes or no. In other words, the random variable can be 1 with a probability p (success) or it can be 0 with a probability (1 - p) (failure). Such \n",
    "an experiment is called a Bernoulli trial.'''\n",
    "\n",
    "# Example: Suppose there is an experiment where you flip a fair coin. If the outcome of the flip is heads then you will win. This means that the probability\n",
    "# of getting heads is p = 1/2. If X is the random variable following a Bernoulli Distribution, we get P (X = 1) = p = 1/21.\n",
    "\n",
    "# The Bernoulli Distribution is a special case of the Binomial Distribution where n = 13. The key differences between the two are:\n",
    "\n",
    "# 1.Number of Trials: Bernoulli distribution deals with the outcome of a single trial of an event, whereas Binomial distribution deals with the outcome\n",
    "# of multiple trials of a single event.\n",
    "\n",
    "# 2.Number of Possible Outcomes: A random variable that follows a Bernoulli distribution can only take on two possible values (0 or 1), but a random \n",
    "# variable that follows a Binomial distribution can take on several values (from 0 to n, where n is the number of trials).\n",
    "\n",
    "# 3.Use Cases: Bernoulli is used when the outcome of an event is required for only one time, whereas the Binomial is used when the outcome of an event\n",
    "# is required multiple times.\n",
    "\n",
    "'''In summary, while both Bernoulli and Bnomial distributions deal with binary outcomes, the Bernoulli distribution is used for a single trial, while the \n",
    "Binomial distribution is used for multiple trials.'''"
   ]
  },
  {
   "cell_type": "code",
   "execution_count": 11,
   "id": "6f2ebfde-8509-4bc4-96b8-2099740f43db",
   "metadata": {},
   "outputs": [
    {
     "data": {
      "text/plain": [
       "'Q6. Consider a dataset with a mean of 50 and a standard deviation of 10. If we assume that the dataset \\nis normally distributed, what is the probability that a randomly selected observation will be greater \\nthan 60? Use the appropriate formula and show your calculations.'"
      ]
     },
     "execution_count": 11,
     "metadata": {},
     "output_type": "execute_result"
    }
   ],
   "source": [
    "'''Q6. Consider a dataset with a mean of 50 and a standard deviation of 10. If we assume that the dataset \n",
    "is normally distributed, what is the probability that a randomly selected observation will be greater \n",
    "than 60? Use the appropriate formula and show your calculations.'''"
   ]
  },
  {
   "cell_type": "code",
   "execution_count": 12,
   "id": "591f2446-9583-4be1-84b8-7033eda44bd5",
   "metadata": {},
   "outputs": [
    {
     "data": {
      "text/plain": [
       "'In a normal distribution, the probability that a randomly selected observation will be greater than a certain value can be found using the Z-score formula:\\nZ=X−μ/σ\\n\\nWhere:\\n\\nX is the value from the dataset.\\nμ is the mean of the dataset.\\nσ is the standard deviation of the dataset.\\n\\nIn this case, X=60, μ=50, and σ=10. So, the Z-score is:\\nZ=60-50/10=1\\nThe Z-score tells us how many standard deviations an element is from the mean. A Z-score of 1.0 represents a value that is one standard deviation from\\nthe mean.\\n\\nZ-scores are used to calculate probabilities using the standard normal distribution table (also known as the Z-table). The standard normal distribution\\ntable gives the probability that a normally distributed random variable Z, with mean equal to 0 and variance equal to 1, is less than or equal to z.\\n\\nFrom the standard normal distribution table, the probability that Z is less than or equal to 1 is approximately 0.8413.\\n\\nHowever, we want the probability that the observation is greater than 60, which means we want the probability that Z is greater than 1. This is given\\nby 1 minus the probability that Z is less than or equal to 1:\\nP(Z>1)=1−P(Z≤1)=1−0.8413=0.1587\\n\\nSo, the probability that a randomly selected observation from the dataset will be greater than 60 is approximately 0.1587, or 15.87%'"
      ]
     },
     "execution_count": 12,
     "metadata": {},
     "output_type": "execute_result"
    }
   ],
   "source": [
    "'''In a normal distribution, the probability that a randomly selected observation will be greater than a certain value can be found using the Z-score formula:\n",
    "Z=X−μ/σ\n",
    "\n",
    "Where:\n",
    "\n",
    "X is the value from the dataset.\n",
    "μ is the mean of the dataset.\n",
    "σ is the standard deviation of the dataset.\n",
    "\n",
    "In this case, X=60, μ=50, and σ=10. So, the Z-score is:\n",
    "Z=60-50/10=1\n",
    "The Z-score tells us how many standard deviations an element is from the mean. A Z-score of 1.0 represents a value that is one standard deviation from\n",
    "the mean.\n",
    "\n",
    "Z-scores are used to calculate probabilities using the standard normal distribution table (also known as the Z-table). The standard normal distribution\n",
    "table gives the probability that a normally distributed random variable Z, with mean equal to 0 and variance equal to 1, is less than or equal to z.\n",
    "\n",
    "From the standard normal distribution table, the probability that Z is less than or equal to 1 is approximately 0.8413.\n",
    "\n",
    "However, we want the probability that the observation is greater than 60, which means we want the probability that Z is greater than 1. This is given\n",
    "by 1 minus the probability that Z is less than or equal to 1:\n",
    "P(Z>1)=1−P(Z≤1)=1−0.8413=0.1587\n",
    "\n",
    "So, the probability that a randomly selected observation from the dataset will be greater than 60 is approximately 0.1587, or 15.87%'''"
   ]
  },
  {
   "cell_type": "code",
   "execution_count": 13,
   "id": "7d1c27ed-282d-4650-b1a3-266d0bbf2db3",
   "metadata": {},
   "outputs": [
    {
     "data": {
      "text/plain": [
       "'Q7: Explain uniform Distribution with an example.'"
      ]
     },
     "execution_count": 13,
     "metadata": {},
     "output_type": "execute_result"
    }
   ],
   "source": [
    "'''Q7: Explain uniform Distribution with an example.'''"
   ]
  },
  {
   "cell_type": "code",
   "execution_count": 14,
   "id": "05d5e9a3-7622-49dd-8401-49c4017cb576",
   "metadata": {},
   "outputs": [
    {
     "data": {
      "text/plain": [
       "'f(x)=1/b-a for a≤x≤b. This means that for any value of x in the interval [a, b], the probability is constant and equal to 1/(b - a)'"
      ]
     },
     "execution_count": 14,
     "metadata": {},
     "output_type": "execute_result"
    }
   ],
   "source": [
    "'''The Uniform Distribution is a type of probability distribution where all outcomes are equally likely to occur. This means that all values in the distribution\n",
    "have a constant probability, making them uniformly distributed123. The uniform distribution can be either discrete or continuous.'''\n",
    "\n",
    "# For example, consider the roll of a fair die. The outcome of the roll is a random variable that can take on one of six values: 1, 2, 3, 4, 5, or 6. \n",
    "# Each of these outcomes is equally likely, with a probability of 1/6. Therefore, the distribution of outcomes follows a discrete uniform distribution.\n",
    "\n",
    "# Another example is the time it takes for a traffic signal to change from red to green. If the signal changes every 60 seconds, then the time that a randomly\n",
    "# arriving car will have to wait is uniformly distributed between 0 and 60 seconds.\n",
    "\n",
    "# The uniform distribution is defined by two parameters, a and b, which represent the smallest and largest values in the distribution2. For a continuous\n",
    "# uniform distribution, the probability density function is given by:\n",
    "'''f(x)=1/b-a for a≤x≤b. This means that for any value of x in the interval [a, b], the probability is constant and equal to 1/(b - a)'''"
   ]
  },
  {
   "cell_type": "code",
   "execution_count": 15,
   "id": "b02fe61d-1822-4ac1-9065-939e8f7af5e6",
   "metadata": {},
   "outputs": [
    {
     "data": {
      "text/plain": [
       "'Q8: What is the z score? State the importance of the z score.'"
      ]
     },
     "execution_count": 15,
     "metadata": {},
     "output_type": "execute_result"
    }
   ],
   "source": [
    "'''Q8: What is the z score? State the importance of the z score.'''"
   ]
  },
  {
   "cell_type": "code",
   "execution_count": 16,
   "id": "3dafd6df-e5bb-4c6f-8fee-3c3f6ecdcf78",
   "metadata": {},
   "outputs": [
    {
     "data": {
      "text/plain": [
       "'The importance of z-scores lies in their ability to provide several benefits:\\n\\n# 1.Understand where a data point fits into a distribution: Z-scores help you understand where a specific observation falls within a distribution.\\n\\n# 2.Compare observations between dissimilar variables: They allow for the comparison of scores from different data sets by standardizing the scores.\\n\\n# 3.Identify outliers: Z-scores can help identify outliers in a data set.\\n\\n# 4.Calculate probabilities and percentiles using the standard normal distribution: It allows researchers to calculate the probability of a score \\noccurring within a standard normal distribution'"
      ]
     },
     "execution_count": 16,
     "metadata": {},
     "output_type": "execute_result"
    }
   ],
   "source": [
    "'''The z-score, also known as a standard score, is a numerical measurement used in statistics to describe a value’s relationship to the mean of a group of \n",
    "values. It is measured in terms of standard deviations from the mean. The z-score is positive if the value lies above the mean and negative if\n",
    "it lies below the mean. The formula for calculating a z-score is:'''\n",
    "\n",
    "#..........(z=x-μ/σ).........\n",
    "\n",
    "# Where:\n",
    "\n",
    "# x is the raw score,\n",
    "\n",
    "# μ is the population mean, and\n",
    "\n",
    "# σ is the population standard deviation.\n",
    "'''The importance of z-scores lies in their ability to provide several benefits:\n",
    "\n",
    "# 1.Understand where a data point fits into a distribution: Z-scores help you understand where a specific observation falls within a distribution.\n",
    "\n",
    "# 2.Compare observations between dissimilar variables: They allow for the comparison of scores from different data sets by standardizing the scores.\n",
    "\n",
    "# 3.Identify outliers: Z-scores can help identify outliers in a data set.\n",
    "\n",
    "# 4.Calculate probabilities and percentiles using the standard normal distribution: It allows researchers to calculate the probability of a score \n",
    "occurring within a standard normal distribution'''"
   ]
  },
  {
   "cell_type": "code",
   "execution_count": 17,
   "id": "2c2644e8-8cd0-4b5c-8f50-51868efa9478",
   "metadata": {},
   "outputs": [
    {
     "data": {
      "text/plain": [
       "'The Central Limit Theorem (CLT) is a fundamental concept in probability theory and statistics. It states that if you take sufficiently large samples\\nfrom a population with a finite level of variance, the mean of all samples from that population will be roughly equal to the population mean. This\\nholds true regardless of whether the population has a normal, Poisson, binomial, or any other distribution.\\n\\nThe CLT is significant for several reasons:\\n\\n# 1.Simplification: The CLT allows you to simplify problems in statistics by allowing you to work with a distribution that is approximately norma.\\n\\n# 2.Hypothesis Testing: The CLT is a crucial pillar of statistics and machine learning. It is at the heart of hypothesis testing.\\n\\n# 3.Large Data Handling: The CLT provides a practical way to analyze large data sets. Even if the data is extremely large, the CLT allows for the calculation\\nof approximate averages.\\n\\n# 4.Polling and Census: The CLT has applications in fields like election polling and census data calculation. It helps in estimating the number of people who\\nsupport a specific candidate or calculating various population details.\\n\\n# 5.Assumption of Normality: Many practices in statistics, such as those involving hypothesis testing or confidence intervals, make some assumptions concerning\\nthe population that the data was obtained from. One assumption that is initially made in a statistics course is that the populations that we work with \\nare normally distributed. The assumption that data is from a normal distribution simplifies matters but seems a little unrealistic. The CLT allows us to\\nget around the problem of data from a population that is not normal.'"
      ]
     },
     "execution_count": 17,
     "metadata": {},
     "output_type": "execute_result"
    }
   ],
   "source": [
    "'''The Central Limit Theorem (CLT) is a fundamental concept in probability theory and statistics. It states that if you take sufficiently large samples\n",
    "from a population with a finite level of variance, the mean of all samples from that population will be roughly equal to the population mean. This\n",
    "holds true regardless of whether the population has a normal, Poisson, binomial, or any other distribution.\n",
    "\n",
    "The CLT is significant for several reasons:\n",
    "\n",
    "# 1.Simplification: The CLT allows you to simplify problems in statistics by allowing you to work with a distribution that is approximately norma.\n",
    "\n",
    "# 2.Hypothesis Testing: The CLT is a crucial pillar of statistics and machine learning. It is at the heart of hypothesis testing.\n",
    "\n",
    "# 3.Large Data Handling: The CLT provides a practical way to analyze large data sets. Even if the data is extremely large, the CLT allows for the calculation\n",
    "of approximate averages.\n",
    "\n",
    "# 4.Polling and Census: The CLT has applications in fields like election polling and census data calculation. It helps in estimating the number of people who\n",
    "support a specific candidate or calculating various population details.\n",
    "\n",
    "# 5.Assumption of Normality: Many practices in statistics, such as those involving hypothesis testing or confidence intervals, make some assumptions concerning\n",
    "the population that the data was obtained from. One assumption that is initially made in a statistics course is that the populations that we work with \n",
    "are normally distributed. The assumption that data is from a normal distribution simplifies matters but seems a little unrealistic. The CLT allows us to\n",
    "get around the problem of data from a population that is not normal.'''"
   ]
  },
  {
   "cell_type": "code",
   "execution_count": 18,
   "id": "a9eb8658-460c-4f50-9ee8-627b0cec3b70",
   "metadata": {},
   "outputs": [
    {
     "data": {
      "text/plain": [
       "'Q10: State the assumptions of the Central Limit Theorem.'"
      ]
     },
     "execution_count": 18,
     "metadata": {},
     "output_type": "execute_result"
    }
   ],
   "source": [
    "'''Q10: State the assumptions of the Central Limit Theorem.'''"
   ]
  },
  {
   "cell_type": "code",
   "execution_count": 19,
   "id": "c2ff6387-b630-4604-a697-41051f03597b",
   "metadata": {},
   "outputs": [
    {
     "data": {
      "text/plain": [
       "'The Central Limit Theorem (CLT) is based on the following assumptions:\\n\\n# 1.Random Sampling: The sample should be drawn randomly, following the condition of randomization.\\n\\n# 2.Independence: The samples drawn should be independent of each other. They should not influence the other samples.\\n\\n# 3.Sample Size: When the sampling is done without replacement, the sample size shouldn’t exceed 10% of the total population.\\n\\n# 4.Large Sample Size: The sample size should be sufficiently large. Often, a sample size of 30 or more is considered large enough for the CLT to hold.\\n\\n# 5.Finite Variance: The population from which the samples are drawn should have a finite variance.\\n\\nThese assumptions ensure that the sampling distribution of the sample means will approximate a normal distribution, regardless of the shape of the population distribution.'"
      ]
     },
     "execution_count": 19,
     "metadata": {},
     "output_type": "execute_result"
    }
   ],
   "source": [
    "'''The Central Limit Theorem (CLT) is based on the following assumptions:\n",
    "\n",
    "# 1.Random Sampling: The sample should be drawn randomly, following the condition of randomization.\n",
    "\n",
    "# 2.Independence: The samples drawn should be independent of each other. They should not influence the other samples.\n",
    "\n",
    "# 3.Sample Size: When the sampling is done without replacement, the sample size shouldn’t exceed 10% of the total population.\n",
    "\n",
    "# 4.Large Sample Size: The sample size should be sufficiently large. Often, a sample size of 30 or more is considered large enough for the CLT to hold.\n",
    "\n",
    "# 5.Finite Variance: The population from which the samples are drawn should have a finite variance.\n",
    "\n",
    "These assumptions ensure that the sampling distribution of the sample means will approximate a normal distribution, regardless of the shape of the population distribution.'''"
   ]
  },
  {
   "cell_type": "code",
   "execution_count": null,
   "id": "f99515d6-e286-4db9-a9ad-6f451660be85",
   "metadata": {},
   "outputs": [],
   "source": []
  }
 ],
 "metadata": {
  "kernelspec": {
   "display_name": "Python 3 (ipykernel)",
   "language": "python",
   "name": "python3"
  },
  "language_info": {
   "codemirror_mode": {
    "name": "ipython",
    "version": 3
   },
   "file_extension": ".py",
   "mimetype": "text/x-python",
   "name": "python",
   "nbconvert_exporter": "python",
   "pygments_lexer": "ipython3",
   "version": "3.10.8"
  }
 },
 "nbformat": 4,
 "nbformat_minor": 5
}
